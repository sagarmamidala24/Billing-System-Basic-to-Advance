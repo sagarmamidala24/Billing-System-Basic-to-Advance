{
 "cells": [
  {
   "cell_type": "markdown",
   "id": "fb890947-b98e-455f-9584-f53815e604c7",
   "metadata": {},
   "source": [
    "# Billing System (Basic)"
   ]
  },
  {
   "cell_type": "code",
   "execution_count": 22,
   "id": "c105a147-ad67-4ee6-8647-95d1a08fff61",
   "metadata": {},
   "outputs": [
    {
     "name": "stdin",
     "output_type": "stream",
     "text": [
      "enter the size :  4\n",
      "enter the product : samosa\n",
      "enter the product : kacheri\n",
      "enter the product : fafda\n",
      "enter the product : jalebi\n",
      "enter the price of the samosa: 300\n",
      "enter the price of the kacheri: 100\n",
      "enter the price of the fafda: 100\n",
      "enter the price of the jalebi: 200\n"
     ]
    },
    {
     "name": "stdout",
     "output_type": "stream",
     "text": [
      "------------------------------\n",
      "samosa = 300\n",
      "kacheri = 100\n",
      "fafda = 100\n",
      "jalebi = 200\n"
     ]
    }
   ],
   "source": [
    "product = []\n",
    "price = []\n",
    "size = int(input(\"enter the size : \"))\n",
    "\n",
    "for i in range(size):\n",
    "    i = input(\"enter the product :\")\n",
    "    product.append(i)\n",
    "   \n",
    "    \n",
    "for i in range(size):\n",
    "    i = int(input(f\"enter the price of the {product[i]}:\"))\n",
    "    price.append(i)\n",
    "\n",
    "print(\"-\"*30)\n",
    "for i in range(size):\n",
    "    print(product[i], '=',price[i])\n",
    "   \n"
   ]
  },
  {
   "cell_type": "markdown",
   "id": "2cf55821-b079-47ee-8909-b1b7007beee5",
   "metadata": {},
   "source": [
    "# Billing System (Basic) with GST"
   ]
  },
  {
   "cell_type": "code",
   "execution_count": 100,
   "id": "52e6a00e-a4bf-4864-a299-620b2b03f7d9",
   "metadata": {},
   "outputs": [
    {
     "name": "stdin",
     "output_type": "stream",
     "text": [
      "enter the size :  4\n",
      "enter the product : samosa\n",
      "enter the product : kacheri\n",
      "enter the product : fafda\n",
      "enter the product : jalebi\n",
      "enter the price of the samosa: 300\n",
      "enter the price of the kacheri: 100\n",
      "enter the price of the fafda: 100\n",
      "enter the price of the jalebi: 200\n",
      "Do you want the GST  y\n"
     ]
    },
    {
     "name": "stdout",
     "output_type": "stream",
     "text": [
      "add GST  on the bill \n"
     ]
    },
    {
     "name": "stdin",
     "output_type": "stream",
     "text": [
      "enter the gst : 18\n"
     ]
    },
    {
     "name": "stdout",
     "output_type": "stream",
     "text": [
      "------------------------------\n",
      "samosa = 300\n",
      "kacheri = 100\n",
      "fafda = 100\n",
      "jalebi = 200\n",
      "------------------------------\n",
      "Total  = 700 ₹\n",
      "GST  = 18 %\n",
      "------------------------------\n",
      "Final amount = 826.0 ₹\n"
     ]
    }
   ],
   "source": [
    "product = []\n",
    "price = []\n",
    "size = int(input(\"enter the size : \"))\n",
    "\n",
    "for i in range(size):\n",
    "    i = input(\"enter the product :\")\n",
    "    product.append(i)    \n",
    "for i in range(size):\n",
    "    i = int(input(f\"enter the price of the {product[i]}:\"))\n",
    "    price.append(i)\n",
    "user=input(\"Do you want the GST \")\n",
    "if user == 'y' or user=='Y' :\n",
    "    print(\"add GST  on the bill \")\n",
    "    gst = int(input(\"enter the gst :\"))\n",
    "    print(\"-\"*30)\n",
    "    for i in range(size):\n",
    "        print(product[i], '=',price[i])\n",
    "    total_amount = sum(price)\n",
    "    Gst_amount = total_amount*gst/100\n",
    "    final_amount = total_amount + Gst_amount\n",
    "    print(\"-\"*30)\n",
    "    print(\"Total \",\"=\" ,total_amount,\"₹\")\n",
    "    print(\"GST \",\"=\",gst,'%')\n",
    "    print(\"-\"*30)\n",
    "    print(\"Final amount\",'=',final_amount,\"₹\")\n",
    "else:\n",
    "    print(\"bill without GST\")\n",
    "    print(\"-\"*30)\n",
    "    for i in range(size):\n",
    "        print(product[i], '=',price[i])\n",
    "    print(\"-\"*30)\n",
    "    total_amount = sum(price)\n",
    "    final_amount = total_amount\n",
    "    print(\"Final amount \",'=',final_amount,\"/-\")"
   ]
  },
  {
   "cell_type": "markdown",
   "id": "e9d2f850-ab6f-494e-8733-6fc6b988c2f5",
   "metadata": {},
   "source": [
    "# Advance Billing System"
   ]
  },
  {
   "cell_type": "code",
   "execution_count": 98,
   "id": "4ff668ad-8866-4c2c-a4da-ed0d2e7561b2",
   "metadata": {},
   "outputs": [
    {
     "name": "stdin",
     "output_type": "stream",
     "text": [
      "enter the size :  4\n",
      "enter the product : samosa\n",
      "Do you want add more [Y/N]  y\n"
     ]
    },
    {
     "name": "stdout",
     "output_type": "stream",
     "text": [
      "yes\n"
     ]
    },
    {
     "name": "stdin",
     "output_type": "stream",
     "text": [
      "enter the product : kacheri\n",
      "Do you want add more [Y/N]  y\n"
     ]
    },
    {
     "name": "stdout",
     "output_type": "stream",
     "text": [
      "yes\n"
     ]
    },
    {
     "name": "stdin",
     "output_type": "stream",
     "text": [
      "enter the product : fafda\n",
      "Do you want add more [Y/N]  y\n"
     ]
    },
    {
     "name": "stdout",
     "output_type": "stream",
     "text": [
      "yes\n"
     ]
    },
    {
     "name": "stdin",
     "output_type": "stream",
     "text": [
      "enter the product : jalebi\n",
      "Do you want add more [Y/N]  y\n"
     ]
    },
    {
     "name": "stdout",
     "output_type": "stream",
     "text": [
      "yes\n"
     ]
    },
    {
     "name": "stdin",
     "output_type": "stream",
     "text": [
      "enter the price of the samosa: 300\n",
      "enter the price of the kacheri: 100\n",
      "enter the price of the fafda: 100\n",
      "enter the price of the jalebi: 200\n",
      "Do you want add the GST [Y/N]: y\n"
     ]
    },
    {
     "name": "stdout",
     "output_type": "stream",
     "text": [
      "add GST on  bill\n"
     ]
    },
    {
     "name": "stdin",
     "output_type": "stream",
     "text": [
      "enter the GST: 18\n"
     ]
    },
    {
     "name": "stdout",
     "output_type": "stream",
     "text": [
      "------------------------------\n",
      "samosa = 300\n",
      "kacheri = 100\n",
      "fafda = 100\n",
      "jalebi = 200\n",
      "------------------------------\n",
      "Total = 700 ₹\n",
      "GST = 18 %\n",
      "------------------------------\n",
      "Final Amount  = 826.0 ₹\n"
     ]
    }
   ],
   "source": [
    "product = []\n",
    "price = []\n",
    "size = int(input(\"enter the size : \"))\n",
    "\n",
    "for i in range(size):\n",
    "    i = input(\"enter the product :\")\n",
    "    product.append(i) \n",
    "    user=input(\"Do you want add more [Y/N] \")\n",
    "    if user == 'Y' or user == 'y':\n",
    "        print(\"yes\")\n",
    "    else:\n",
    "        print(\"NO\")\n",
    "for i in range(size):\n",
    "    i = int(input(f\"enter the price of the {product[i]}:\"))\n",
    "    price.append(i)\n",
    "\n",
    "user = input(\"Do you want add the GST [Y/N]:\")\n",
    "if user == 'Y' or user =='y':\n",
    "    print(\"add GST on  bill\")\n",
    "    gst = int(input(\"enter the GST:\"))\n",
    "    print('-'*30)\n",
    "    for i in range(size):\n",
    "        print(product[i],'=',price[i])\n",
    "    print('-'*30)\n",
    "    total_amount = sum(price)\n",
    "    GST = total_amount*gst/100\n",
    "    final_amount = total_amount+GST\n",
    "    print(\"Total\",'=',total_amount,'₹')\n",
    "    print(\"GST\",'=',gst,'%')\n",
    "    print('-'*30)\n",
    "    print(\"Final Amount \",'=',final_amount,'₹')\n",
    "else:\n",
    "    print(\"bill without GST\")\n",
    "    for i in range(size):\n",
    "        print(product[i],'=',price[i])\n",
    "    print('-'*30)\n",
    "    total_amount = sum(price)\n",
    "    final_amount = total_amount\n",
    "    print(\"Final Amount\",'=',final_amount,'/-')"
   ]
  },
  {
   "cell_type": "markdown",
   "id": "39a8c7a2-ceed-4c0e-8fe4-eb358780e673",
   "metadata": {},
   "source": [
    "# Super Advance Billing System"
   ]
  },
  {
   "cell_type": "code",
   "execution_count": 34,
   "id": "46e20d81-76a9-4a09-9839-1aa4c7505039",
   "metadata": {},
   "outputs": [
    {
     "name": "stdin",
     "output_type": "stream",
     "text": [
      "enter the size : 4\n",
      "enter the product items : samosa\n",
      "enter the price of the samosa : 300\n",
      "enter the Quantity of samosa: 2\n"
     ]
    },
    {
     "name": "stdout",
     "output_type": "stream",
     "text": [
      "------------------------------\n"
     ]
    },
    {
     "name": "stdin",
     "output_type": "stream",
     "text": [
      "Do you Want to add more [Y/N] : y\n"
     ]
    },
    {
     "name": "stdout",
     "output_type": "stream",
     "text": [
      "Yes\n"
     ]
    },
    {
     "name": "stdin",
     "output_type": "stream",
     "text": [
      "enter the product items : kacheri\n",
      "enter the price of the kacheri : 100\n",
      "enter the Quantity of kacheri: 2\n"
     ]
    },
    {
     "name": "stdout",
     "output_type": "stream",
     "text": [
      "------------------------------\n"
     ]
    },
    {
     "name": "stdin",
     "output_type": "stream",
     "text": [
      "Do you Want to add more [Y/N] : y\n"
     ]
    },
    {
     "name": "stdout",
     "output_type": "stream",
     "text": [
      "Yes\n"
     ]
    },
    {
     "name": "stdin",
     "output_type": "stream",
     "text": [
      "enter the product items : fafda\n",
      "enter the price of the fafda : 100\n",
      "enter the Quantity of fafda: 2\n"
     ]
    },
    {
     "name": "stdout",
     "output_type": "stream",
     "text": [
      "------------------------------\n"
     ]
    },
    {
     "name": "stdin",
     "output_type": "stream",
     "text": [
      "Do you Want to add more [Y/N] : y\n"
     ]
    },
    {
     "name": "stdout",
     "output_type": "stream",
     "text": [
      "Yes\n"
     ]
    },
    {
     "name": "stdin",
     "output_type": "stream",
     "text": [
      "enter the product items : jalebi\n",
      "enter the price of the jalebi : 200\n",
      "enter the Quantity of jalebi: 2\n"
     ]
    },
    {
     "name": "stdout",
     "output_type": "stream",
     "text": [
      "------------------------------\n"
     ]
    },
    {
     "name": "stdin",
     "output_type": "stream",
     "text": [
      "Do you Want to add more [Y/N] : n\n"
     ]
    },
    {
     "name": "stdout",
     "output_type": "stream",
     "text": [
      "No\n"
     ]
    },
    {
     "name": "stdin",
     "output_type": "stream",
     "text": [
      "Do you want to add GST [Y/N] :  y\n"
     ]
    },
    {
     "name": "stdout",
     "output_type": "stream",
     "text": [
      "add GST with bill\n"
     ]
    },
    {
     "name": "stdin",
     "output_type": "stream",
     "text": [
      "enter the gst: 18\n",
      "Do you want the offer  [Y/N]: y\n"
     ]
    },
    {
     "name": "stdout",
     "output_type": "stream",
     "text": [
      " 1. FLAT 2% OFF\n",
      "                 2. FLAT 4% OFF\n",
      "                 3. FLAT 8% OFF \n"
     ]
    },
    {
     "name": "stdin",
     "output_type": "stream",
     "text": [
      "choice the offer 1,2 or 3: 1\n"
     ]
    },
    {
     "name": "stdout",
     "output_type": "stream",
     "text": [
      "apply  FLAT 2% OFF \n"
     ]
    },
    {
     "name": "stdin",
     "output_type": "stream",
     "text": [
      "enter the offer: 2\n"
     ]
    },
    {
     "name": "stdout",
     "output_type": "stream",
     "text": [
      "samosa = 300\n",
      "kacheri = 100\n",
      "fafda = 100\n",
      "jalebi = 200\n",
      "------------------------------\n",
      "Total Amount = 1400 ₹\n",
      "GST = 18 %\n",
      "Offer = 2 %\n",
      "------------------------------\n",
      "Final Amount  1618.96\n"
     ]
    }
   ],
   "source": [
    "product = []\n",
    "price = []\n",
    "size = int(input(\"enter the size :\"))\n",
    "\n",
    "for i in range(size):\n",
    "    i = input(\"enter the product items :\")\n",
    "    product.append(i)\n",
    "    i_price = int(input(f\"enter the price of the {i} :\"))\n",
    "    price.append(i_price)\n",
    "    QT = int(input(f\"enter the Quantity of {i}:\"))\n",
    "    print('-'*30)\n",
    "    user = input(\"Do you Want to add more [Y/N] :\")\n",
    "    if user == 'Y' or user == 'y':\n",
    "        print(\"Yes\")\n",
    "    else :\n",
    "        print(\"No\") \n",
    "        break\n",
    "\n",
    "user = input(\"Do you want to add GST [Y/N] : \")\n",
    "if user == 'Y' or user == 'y':\n",
    "    print(\"add GST with bill\")\n",
    "    gst = int(input(\"enter the gst:\"))\n",
    "\n",
    "    \n",
    "    user = input(\"Do you want the offer  [Y/N]:\")\n",
    "    if user == 'Y' or user == 'y':\n",
    "        print(''' 1. FLAT 2% OFF\n",
    "                 2. FLAT 4% OFF\n",
    "                 3. FLAT 8% OFF ''')\n",
    "        offers = int(input( \"choice the offer 1,2 or 3:\"))\n",
    "        if offers == 1:\n",
    "            print(\"apply  FLAT 2% OFF \")\n",
    "            selected_offer = int(input(\"enter the offer:\"))\n",
    "        elif offers == 2:\n",
    "            print(\"apply  FLAT 4% OFF \")\n",
    "            selected_offer = int(input(\"enter the offer:\"))\n",
    "        else:\n",
    "            print(\"apply  FLAT 8% OFF\")\n",
    "            selected_offer = int(input(\"enter the offer:\"))\n",
    "        for i in range(size):\n",
    "            print(product[i],'=',price[i])\n",
    "        print('-'*30)\n",
    "        total_amount = sum(price)*QT\n",
    "        print(\"Total Amount\",'=',total_amount,'₹')\n",
    "        GST = total_amount*gst/100\n",
    "        print(\"GST\",'=',gst,'%')\n",
    "        offer = selected_offer\n",
    "        print(\"Offer\",'=',offer,'%')\n",
    "        amount =total_amount+GST\n",
    "        applied_offer =amount*offer/100\n",
    "        final_amount = amount-applied_offer\n",
    "        print('-'*30)\n",
    "        print(\"Final Amount \", final_amount) \n",
    "    else:\n",
    "        print(\"bill without offer\")\n",
    "        for i in range(size):\n",
    "            print(product[i],'=',price[i])\n",
    "        print('-'*30)\n",
    "        total_amount = sum(price)*QT\n",
    "        print(\"Total Amount\",'=',total_amount,'₹')\n",
    "        GST = total_amount*gst/100\n",
    "        print(\"GST\",'=',gst,'%')\n",
    "        final_amount = total_amount+GST\n",
    "        print('-'*30)\n",
    "        print(\"Final Amount \", final_amount,'/-')\n",
    "else:\n",
    "    print(\"Bill without GST\")\n",
    "    user = input(\"Do you want the offer  [Y/N]:\")\n",
    "    if user == 'Y' or user == 'y':\n",
    "        print(''' 1. FLAT 2% OFF\n",
    "                 2. FLAT 4% OFF\n",
    "                 3. FLAT 8% OFF ''')\n",
    "        offers = int(input( \"choice the offer 1,2 or 3:\"))\n",
    "        if offers == 1:\n",
    "            print(\"apply  FLAT 2% OFF \")\n",
    "            selected_offer = int(input(\"enter the offer:\"))\n",
    "        elif offers == 2:\n",
    "            print(\"apply  FLAT 4% OFF \")\n",
    "            selected_offer = int(input(\"enter the offer:\"))\n",
    "        else:\n",
    "            print(\"apply  FLAT 8% OFF\")\n",
    "            selected_offer = int(input(\"enter the offer:\"))\n",
    "        for i in range(size):\n",
    "            print(product[i],'=',price[i])\n",
    "        print('-'*30)\n",
    "        total_amount = sum(price)*QT\n",
    "        print(\"Total Amount\",'=',total_amount,'₹')\n",
    "        offer = selected_offer\n",
    "        print(\"Offer\",'=',offer,'%')\n",
    "        applied_offer =total_amount*offer/100\n",
    "        final_amount = total_amount-applied_offer\n",
    "        print('-'*30)\n",
    "        print(\"Final Amount \", final_amount,'/-') \n",
    "    else:\n",
    "        print(\"bill without offer\")"
   ]
  },
  {
   "cell_type": "code",
   "execution_count": null,
   "id": "dd2b59a7-f4d7-417b-acc0-c811810b5e8e",
   "metadata": {},
   "outputs": [],
   "source": []
  }
 ],
 "metadata": {
  "kernelspec": {
   "display_name": "Python 3 (ipykernel)",
   "language": "python",
   "name": "python3"
  },
  "language_info": {
   "codemirror_mode": {
    "name": "ipython",
    "version": 3
   },
   "file_extension": ".py",
   "mimetype": "text/x-python",
   "name": "python",
   "nbconvert_exporter": "python",
   "pygments_lexer": "ipython3",
   "version": "3.12.7"
  }
 },
 "nbformat": 4,
 "nbformat_minor": 5
}
